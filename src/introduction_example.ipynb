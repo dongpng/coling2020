{
 "cells": [
  {
   "cell_type": "code",
   "execution_count": 1,
   "metadata": {},
   "outputs": [],
   "source": [
    "import numpy as np\n",
    "import matplotlib.pyplot as plt\n",
    "from matplotlib import rc\n",
    "\n",
    "from sklearn.manifold import TSNE\n",
    "\n",
    "import config\n",
    "import EmbeddingWrapper\n",
    "\n",
    "%matplotlib inline\n",
    "%load_ext autoreload\n",
    "%autoreload 2"
   ]
  },
  {
   "cell_type": "markdown",
   "metadata": {},
   "source": [
    "Make sure the main directory is set correctly (if not: edit config.ini):"
   ]
  },
  {
   "cell_type": "markdown",
   "metadata": {},
   "source": [
    "# Load in Reddit word2vec model"
   ]
  },
  {
   "cell_type": "code",
   "execution_count": 3,
   "metadata": {},
   "outputs": [],
   "source": [
    "w2vec_reddit = EmbeddingWrapper.EmbeddingWrapper(\"word2vec\", \"reddit\", 300)"
   ]
  },
  {
   "cell_type": "markdown",
   "metadata": {},
   "source": [
    "Number of words in the vocabulary"
   ]
  },
  {
   "cell_type": "code",
   "execution_count": 6,
   "metadata": {},
   "outputs": [
    {
     "name": "stdout",
     "output_type": "stream",
     "text": [
      "575821\n"
     ]
    }
   ],
   "source": [
    "print(len(w2vec_reddit.get_vocab()))"
   ]
  },
  {
   "cell_type": "markdown",
   "metadata": {},
   "source": [
    "# Plot words"
   ]
  },
  {
   "cell_type": "markdown",
   "metadata": {},
   "source": [
    "This example is used in the introduction"
   ]
  },
  {
   "cell_type": "code",
   "execution_count": 8,
   "metadata": {},
   "outputs": [],
   "source": [
    "\n",
    "def tsne_plot(vectors, labels, perplexity=2, text_size=35, \n",
    "              fig_size=(10,10), pdf_output_file_path=None):\n",
    "    \"\"\"Creates and TSNE model and plots it.\n",
    "    \"\"\"\n",
    "    \n",
    "    rc('text', usetex=True)\n",
    "\n",
    "\n",
    "    tsne_model = TSNE(perplexity=perplexity, n_components=2, \n",
    "                      init='pca', n_iter=2500, random_state=123) #89\n",
    "    new_values = tsne_model.fit_transform(vectors)\n",
    "\n",
    "    # Convert to x,y values\n",
    "    x = []\n",
    "    y = []\n",
    "    for value in new_values:\n",
    "        x.append(value[0])\n",
    "        y.append(value[1])\n",
    "        \n",
    "    # Set figure size    \n",
    "    f = plt.figure(figsize=fig_size) \n",
    "    for i in range(len(x)):\n",
    "        # use s=0 for no points\n",
    "        plt.scatter(x[i],y[i],s=40, color='k')\n",
    "        if labels[i] == 'nothing':\n",
    "            labels[i] = r'\\underline{nothing} '\n",
    "        plt.annotate(labels[i],\n",
    "                     xy=(x[i], y[i]),\n",
    "                     xytext=(5, 2),\n",
    "                     textcoords='offset points',\n",
    "                     ha='right',\n",
    "                     va='bottom', size=text_size)\n",
    "\n",
    "    plt.xticks([])\n",
    "    plt.yticks([])\n",
    "    plt.axis('off')\n",
    "    plt.show()\n",
    "\n",
    "\n",
    "    if pdf_output_file_path:\n",
    "        f.savefig(pdf_output_file_path, bbox_inches='tight')\n",
    "\n",
    "def tsne_plot_wordvectors(model, words, model_type, perplexity=2, \n",
    "                          text_size=35, fig_size=(10,10), pdf_output_file_path=None):\n",
    "    \n",
    "    # store the labels and vectors\n",
    "    labels = []\n",
    "    vectors = []\n",
    "\n",
    "    for word in words:\n",
    "        if model_type == \"fasttext\":\n",
    "            vectors.append(model.get_norm_embedding(word))\n",
    "        elif model_type == \"word2vec\":\n",
    "            if word not in model.get_vocab():\n",
    "                print(\"Skip word %s\" % word)\n",
    "                continue\n",
    "            vectors.append(model.get_norm_embedding(word))\n",
    "        else:\n",
    "            raise Exception(\"Unknown model\")\n",
    "        \n",
    "        labels.append(word)\n",
    "    \n",
    "    # plot\n",
    "    tsne_plot(vectors, labels, perplexity, text_size, \n",
    "              fig_size=fig_size, pdf_output_file_path=pdf_output_file_path)"
   ]
  },
  {
   "cell_type": "code",
   "execution_count": 13,
   "metadata": {},
   "outputs": [
    {
     "data": {
      "image/png": "[encoded data removed]",
      "text/plain": [
       "<Figure size 1152x504 with 1 Axes>"
      ]
     },
     "metadata": {},
     "output_type": "display_data"
    }
   ],
   "source": [
    "nothing_words = \"\"\"nithing\n",
    "noooooothing\n",
    "noooothing\n",
    "nooothing\n",
    "noothing\n",
    "nothig\n",
    "nothiing\n",
    "nothin\n",
    "nothing\n",
    "nothinh\n",
    "nottin\n",
    "nuffin\n",
    "nuffing\n",
    "nuffink\n",
    "nufin\n",
    "nuthin\n",
    "nuthing\n",
    "nutin\"\"\"\n",
    "tsne_plot_wordvectors(w2vec_reddit,  [w for w in nothing_words.split(\"\\n\")], model_type=\"word2vec\", \n",
    "                            perplexity=8, text_size=35, fig_size=(16,7),\n",
    "                            pdf_output_file_path=\"word2vec_nothing_reddit.pdf\")"
   ]
  },
  {
   "cell_type": "code",
   "execution_count": null,
   "metadata": {},
   "outputs": [],
   "source": []
  }
 ],
 "metadata": {
  "anaconda-cloud": {},
  "kernelspec": {
   "display_name": "embeddings_spelling",
   "language": "python",
   "name": "embeddings_spelling"
  },
  "language_info": {
   "codemirror_mode": {
    "name": "ipython",
    "version": 3
   },
   "file_extension": ".py",
   "mimetype": "text/x-python",
   "name": "python",
   "nbconvert_exporter": "python",
   "pygments_lexer": "ipython3",
   "version": "3.7.6"
  }
 },
 "nbformat": 4,
 "nbformat_minor": 4
}
